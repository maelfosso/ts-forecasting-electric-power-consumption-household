{
 "cells": [
  {
   "cell_type": "markdown",
   "id": "43c53b65-c34a-450d-9fa4-746e2c301ea9",
   "metadata": {},
   "source": [
    "# Setup"
   ]
  },
  {
   "cell_type": "code",
   "execution_count": 1,
   "id": "230c66b9-c0a2-45f6-a6f5-10560badd356",
   "metadata": {},
   "outputs": [
    {
     "name": "stderr",
     "output_type": "stream",
     "text": [
      "2024-08-08 06:51:08.714606: I tensorflow/core/platform/cpu_feature_guard.cc:182] This TensorFlow binary is optimized to use available CPU instructions in performance-critical operations.\n",
      "To enable the following instructions: AVX2 FMA, in other operations, rebuild TensorFlow with the appropriate compiler flags.\n"
     ]
    }
   ],
   "source": [
    "import os\n",
    "import datetime\n",
    "\n",
    "import IPython\n",
    "import IPython.display\n",
    "import matplotlib as mpl\n",
    "import matplotlib.pyplot as plt\n",
    "import numpy as np\n",
    "import pandas as pd\n",
    "import seaborn as sns\n",
    "import tensorflow as tf\n",
    "\n",
    "mpl.rcParams['figure.figsize'] = (12, 8)\n",
    "mpl.rcParams['axes.grid'] = False"
   ]
  },
  {
   "cell_type": "markdown",
   "id": "e6cc9c1e-1020-47ce-94ff-e78786381025",
   "metadata": {},
   "source": [
    "# The Individual household electric power consumption dataset"
   ]
  },
  {
   "cell_type": "markdown",
   "id": "5d3bf29b-73e7-4760-9994-e28fa2aa2ea0",
   "metadata": {},
   "source": [
    "## Download the dataset"
   ]
  },
  {
   "cell_type": "code",
   "execution_count": 2,
   "id": "582483a1-71e6-4800-b130-0f255ffcdd51",
   "metadata": {},
   "outputs": [
    {
     "name": "stdout",
     "output_type": "stream",
     "text": [
      "\n",
      "/Users/maelfosso/.keras/datasets/individual+household+electric+power+consumption.zip\n"
     ]
    }
   ],
   "source": [
    "zip_path = tf.keras.utils.get_file(\n",
    "    origin='https://archive.ics.uci.edu/static/public/235/individual+household+electric+power+consumption.zip',\n",
    "    extract=True\n",
    ")\n",
    "\n",
    "print()\n",
    "print(zip_path)"
   ]
  },
  {
   "cell_type": "code",
   "execution_count": 3,
   "id": "5272d130-72ab-418a-9d80-5fdf2e688791",
   "metadata": {},
   "outputs": [
    {
     "name": "stdout",
     "output_type": "stream",
     "text": [
      "household_power_consumption.txt\n",
      "individual+household+electric+power+consumption.zip\n"
     ]
    }
   ],
   "source": [
    "!ls ~/.keras/datasets"
   ]
  },
  {
   "cell_type": "code",
   "execution_count": 4,
   "id": "7fa06d28-8eda-4b20-bb13-2edfeb9bb9a4",
   "metadata": {},
   "outputs": [
    {
     "name": "stdout",
     "output_type": "stream",
     "text": [
      "/Users/maelfosso/.keras/datasets/household_power_consumption.txt\n"
     ]
    }
   ],
   "source": [
    "dataset_path = os.path.join(os.path.dirname(zip_path), 'household_power_consumption.txt')\n",
    "print(dataset_path)"
   ]
  },
  {
   "cell_type": "code",
   "execution_count": null,
   "id": "4efa31e8-13c4-436e-91ad-bc034b4f3c2f",
   "metadata": {},
   "outputs": [
    {
     "name": "stdout",
     "output_type": "stream",
     "text": [
      "Date;Time;Global_active_power;Global_reactive_power;Voltage;Global_intensity;Sub_metering_1;Sub_metering_2;Sub_metering_3\n",
      "16/12/2006;17:24:00;4.216;0.418;234.840;18.400;0.000;1.000;17.000\n",
      "16/12/2006;17:25:00;5.360;0.436;233.630;23.000;0.000;1.000;16.000\n",
      "16/12/2006;17:26:00;5.374;0.498;233.290;23.000;0.000;2.000;17.000\n",
      "16/12/2006;17:27:00;5.388;0.502;233.740;23.000;0.000;1.000;17.000\n",
      "16/12/2006;17:28:00;3.666;0.528;235.680;15.800;0.000;1.000;17.000\n",
      "16/12/2006;17:29:00;3.520;0.522;235.020;15.000;0.000;2.000;17.000\n",
      "16/12/2006;17:30:00;3.702;0.520;235.090;15.800;0.000;1.000;17.000\n",
      "16/12/2006;17:31:00;3.700;0.520;235.220;15.800;0.000;1.000;17.000\n",
      "16/12/2006;17:32:00;3.668;0.510;233.990;15.800;0.000;1.000;17.000\n",
      "16/12/2006;17:33:00;3.662;0.510;233.860;15.800;0.000;2.000;16.000\n",
      "16/12/2006;17:34:00;4.448;0.498;232.860;19.600;0.000;1.000;17.000\n",
      "16/12/2006;17:35:00;5.412;0.470;232.780;23.200;0.000;1.000;17.000\n",
      "16/12/2006;17:36:00;5.224;0.478;232.990;22.400;0.000;1.000;16.000\n",
      "16/12/2006;17:37:00;5.268;0.398;232.910;22.600;0.000;2.000;17.000\n",
      "16/12/2006;17:38:00;4.054;0.422;235.240;17.600;0.000;1.000;17.000\n",
      "16/12/2006;17:39:00;3.384;0.282;237.140;14.200;0.000;0.000;17.000\n",
      "16/12/2006;17:40:00;3.270;0.152;236.730;13.800;0.000;0.000;17.000\n",
      "16/12/2006;17:41:00;3.430;0.156;237.060;14.400;0.000;0.000;17.000\n",
      "16/12/2006;17:42:00;3.266;0.000;237.130;13.800;0.000;0.000;18.000\n",
      "16/12/2006;17:43:00;3.728;0.000;235.840;16.400;0.000;0.000;17.000\n",
      "16/12/2006;17:44:00;5.894;0.000;232.690;25.400;0.000;0.000;16.000\n",
      "\u001b[7m/Users/maelfosso/.keras/datasets/household_power_consumption.txt\u001b[m\u001b[K"
     ]
    }
   ],
   "source": [
    "!less /Users/maelfosso/.keras/datasets/household_power_consumption.txt"
   ]
  },
  {
   "cell_type": "code",
   "execution_count": null,
   "id": "935ab714-8857-4d0b-919b-d0e024ab9e6a",
   "metadata": {},
   "outputs": [],
   "source": [
    "na_values=[\"?\"]\n",
    "df = pd.read_csv(dataset_path, sep=\";\", nav_)\n",
    "df.head()"
   ]
  },
  {
   "cell_type": "code",
   "execution_count": null,
   "id": "6372c635-4c03-4c06-9cd6-ffff4e822ef5",
   "metadata": {},
   "outputs": [],
   "source": [
    "df.shape"
   ]
  },
  {
   "cell_type": "markdown",
   "id": "eb7109d5-0616-49c2-bd1c-0a78a103df8c",
   "metadata": {},
   "source": [
    "## Data Wrangling and preprocessing"
   ]
  },
  {
   "cell_type": "markdown",
   "id": "01b05c71-da60-4324-a0c5-35c7dc6cd34f",
   "metadata": {},
   "source": [
    "### Missing values"
   ]
  },
  {
   "cell_type": "code",
   "execution_count": null,
   "id": "7581d550-751e-4644-9a08-d0a5834ed936",
   "metadata": {},
   "outputs": [],
   "source": [
    "df.describe()"
   ]
  },
  {
   "cell_type": "code",
   "execution_count": 46,
   "id": "d84e15a9-4d44-461b-a3aa-d0168078169f",
   "metadata": {},
   "outputs": [
    {
     "data": {
      "text/plain": [
       "Date                      object\n",
       "Time                      object\n",
       "Global_active_power       object\n",
       "Global_reactive_power     object\n",
       "Voltage                   object\n",
       "Global_intensity          object\n",
       "Sub_metering_1            object\n",
       "Sub_metering_2            object\n",
       "Sub_metering_3           float64\n",
       "dtype: object"
      ]
     },
     "execution_count": 46,
     "metadata": {},
     "output_type": "execute_result"
    }
   ],
   "source": [
    "df.dtypes"
   ]
  },
  {
   "cell_type": "code",
   "execution_count": 47,
   "id": "b16bd417-3a47-4161-9583-fbc6f8a20d1d",
   "metadata": {},
   "outputs": [
    {
     "data": {
      "text/html": [
       "<div>\n",
       "<style scoped>\n",
       "    .dataframe tbody tr th:only-of-type {\n",
       "        vertical-align: middle;\n",
       "    }\n",
       "\n",
       "    .dataframe tbody tr th {\n",
       "        vertical-align: top;\n",
       "    }\n",
       "\n",
       "    .dataframe thead th {\n",
       "        text-align: right;\n",
       "    }\n",
       "</style>\n",
       "<table border=\"1\" class=\"dataframe\">\n",
       "  <thead>\n",
       "    <tr style=\"text-align: right;\">\n",
       "      <th></th>\n",
       "      <th>Date</th>\n",
       "      <th>Time</th>\n",
       "      <th>Global_active_power</th>\n",
       "      <th>Global_reactive_power</th>\n",
       "      <th>Voltage</th>\n",
       "      <th>Global_intensity</th>\n",
       "      <th>Sub_metering_1</th>\n",
       "      <th>Sub_metering_2</th>\n",
       "      <th>Sub_metering_3</th>\n",
       "    </tr>\n",
       "  </thead>\n",
       "  <tbody>\n",
       "    <tr>\n",
       "      <th>count</th>\n",
       "      <td>2075259</td>\n",
       "      <td>2075259</td>\n",
       "      <td>2075259</td>\n",
       "      <td>2075259</td>\n",
       "      <td>2075259</td>\n",
       "      <td>2075259</td>\n",
       "      <td>2075259</td>\n",
       "      <td>2075259</td>\n",
       "      <td>2.049280e+06</td>\n",
       "    </tr>\n",
       "    <tr>\n",
       "      <th>unique</th>\n",
       "      <td>1442</td>\n",
       "      <td>1440</td>\n",
       "      <td>6534</td>\n",
       "      <td>896</td>\n",
       "      <td>5168</td>\n",
       "      <td>377</td>\n",
       "      <td>153</td>\n",
       "      <td>145</td>\n",
       "      <td>NaN</td>\n",
       "    </tr>\n",
       "    <tr>\n",
       "      <th>top</th>\n",
       "      <td>6/12/2008</td>\n",
       "      <td>17:24:00</td>\n",
       "      <td>?</td>\n",
       "      <td>0.000</td>\n",
       "      <td>?</td>\n",
       "      <td>1.000</td>\n",
       "      <td>0.000</td>\n",
       "      <td>0.000</td>\n",
       "      <td>NaN</td>\n",
       "    </tr>\n",
       "    <tr>\n",
       "      <th>freq</th>\n",
       "      <td>1440</td>\n",
       "      <td>1442</td>\n",
       "      <td>25979</td>\n",
       "      <td>472786</td>\n",
       "      <td>25979</td>\n",
       "      <td>169406</td>\n",
       "      <td>1840611</td>\n",
       "      <td>1408274</td>\n",
       "      <td>NaN</td>\n",
       "    </tr>\n",
       "    <tr>\n",
       "      <th>mean</th>\n",
       "      <td>NaN</td>\n",
       "      <td>NaN</td>\n",
       "      <td>NaN</td>\n",
       "      <td>NaN</td>\n",
       "      <td>NaN</td>\n",
       "      <td>NaN</td>\n",
       "      <td>NaN</td>\n",
       "      <td>NaN</td>\n",
       "      <td>6.458447e+00</td>\n",
       "    </tr>\n",
       "    <tr>\n",
       "      <th>std</th>\n",
       "      <td>NaN</td>\n",
       "      <td>NaN</td>\n",
       "      <td>NaN</td>\n",
       "      <td>NaN</td>\n",
       "      <td>NaN</td>\n",
       "      <td>NaN</td>\n",
       "      <td>NaN</td>\n",
       "      <td>NaN</td>\n",
       "      <td>8.437154e+00</td>\n",
       "    </tr>\n",
       "    <tr>\n",
       "      <th>min</th>\n",
       "      <td>NaN</td>\n",
       "      <td>NaN</td>\n",
       "      <td>NaN</td>\n",
       "      <td>NaN</td>\n",
       "      <td>NaN</td>\n",
       "      <td>NaN</td>\n",
       "      <td>NaN</td>\n",
       "      <td>NaN</td>\n",
       "      <td>0.000000e+00</td>\n",
       "    </tr>\n",
       "    <tr>\n",
       "      <th>25%</th>\n",
       "      <td>NaN</td>\n",
       "      <td>NaN</td>\n",
       "      <td>NaN</td>\n",
       "      <td>NaN</td>\n",
       "      <td>NaN</td>\n",
       "      <td>NaN</td>\n",
       "      <td>NaN</td>\n",
       "      <td>NaN</td>\n",
       "      <td>0.000000e+00</td>\n",
       "    </tr>\n",
       "    <tr>\n",
       "      <th>50%</th>\n",
       "      <td>NaN</td>\n",
       "      <td>NaN</td>\n",
       "      <td>NaN</td>\n",
       "      <td>NaN</td>\n",
       "      <td>NaN</td>\n",
       "      <td>NaN</td>\n",
       "      <td>NaN</td>\n",
       "      <td>NaN</td>\n",
       "      <td>1.000000e+00</td>\n",
       "    </tr>\n",
       "    <tr>\n",
       "      <th>75%</th>\n",
       "      <td>NaN</td>\n",
       "      <td>NaN</td>\n",
       "      <td>NaN</td>\n",
       "      <td>NaN</td>\n",
       "      <td>NaN</td>\n",
       "      <td>NaN</td>\n",
       "      <td>NaN</td>\n",
       "      <td>NaN</td>\n",
       "      <td>1.700000e+01</td>\n",
       "    </tr>\n",
       "    <tr>\n",
       "      <th>max</th>\n",
       "      <td>NaN</td>\n",
       "      <td>NaN</td>\n",
       "      <td>NaN</td>\n",
       "      <td>NaN</td>\n",
       "      <td>NaN</td>\n",
       "      <td>NaN</td>\n",
       "      <td>NaN</td>\n",
       "      <td>NaN</td>\n",
       "      <td>3.100000e+01</td>\n",
       "    </tr>\n",
       "  </tbody>\n",
       "</table>\n",
       "</div>"
      ],
      "text/plain": [
       "             Date      Time Global_active_power Global_reactive_power  \\\n",
       "count     2075259   2075259             2075259               2075259   \n",
       "unique       1442      1440                6534                   896   \n",
       "top     6/12/2008  17:24:00                   ?                 0.000   \n",
       "freq         1440      1442               25979                472786   \n",
       "mean          NaN       NaN                 NaN                   NaN   \n",
       "std           NaN       NaN                 NaN                   NaN   \n",
       "min           NaN       NaN                 NaN                   NaN   \n",
       "25%           NaN       NaN                 NaN                   NaN   \n",
       "50%           NaN       NaN                 NaN                   NaN   \n",
       "75%           NaN       NaN                 NaN                   NaN   \n",
       "max           NaN       NaN                 NaN                   NaN   \n",
       "\n",
       "        Voltage Global_intensity Sub_metering_1 Sub_metering_2  Sub_metering_3  \n",
       "count   2075259          2075259        2075259        2075259    2.049280e+06  \n",
       "unique     5168              377            153            145             NaN  \n",
       "top           ?            1.000          0.000          0.000             NaN  \n",
       "freq      25979           169406        1840611        1408274             NaN  \n",
       "mean        NaN              NaN            NaN            NaN    6.458447e+00  \n",
       "std         NaN              NaN            NaN            NaN    8.437154e+00  \n",
       "min         NaN              NaN            NaN            NaN    0.000000e+00  \n",
       "25%         NaN              NaN            NaN            NaN    0.000000e+00  \n",
       "50%         NaN              NaN            NaN            NaN    1.000000e+00  \n",
       "75%         NaN              NaN            NaN            NaN    1.700000e+01  \n",
       "max         NaN              NaN            NaN            NaN    3.100000e+01  "
      ]
     },
     "execution_count": 47,
     "metadata": {},
     "output_type": "execute_result"
    }
   ],
   "source": [
    "df.describe(include='all')"
   ]
  },
  {
   "cell_type": "code",
   "execution_count": 52,
   "id": "295abafe-2630-41ed-8683-2013038b60e9",
   "metadata": {},
   "outputs": [
    {
     "name": "stdout",
     "output_type": "stream",
     "text": [
      "Count: 2049280\n",
      "Missing values: 25979 - 1.2518437457686005%\n"
     ]
    }
   ],
   "source": [
    "n = df['Sub_metering_3'].count()\n",
    "print(f'Count: {n}')\n",
    "print(f'Missing values: {df.shape[0] - n} - {100 * (df.shape[0] - n)/df.shape[0]}%')"
   ]
  },
  {
   "cell_type": "code",
   "execution_count": 53,
   "id": "0bde1c4b-5b0e-4449-bd13-cc0ab189db57",
   "metadata": {},
   "outputs": [
    {
     "data": {
      "text/plain": [
       "<Axes: ylabel='Sub_metering_3'>"
      ]
     },
     "execution_count": 53,
     "metadata": {},
     "output_type": "execute_result"
    },
    {
     "data": {
      "image/png": "[encoded data removed]",
      "text/plain": [
       "<Figure size 1200x800 with 1 Axes>"
      ]
     },
     "metadata": {},
     "output_type": "display_data"
    }
   ],
   "source": [
    "sns.lineplot(data=df['Sub_metering_3'])"
   ]
  },
  {
   "cell_type": "code",
   "execution_count": 54,
   "id": "fcb68541-ab0a-409b-a66b-ae611a438fbf",
   "metadata": {},
   "outputs": [
    {
     "data": {
      "text/html": [
       "<div>\n",
       "<style scoped>\n",
       "    .dataframe tbody tr th:only-of-type {\n",
       "        vertical-align: middle;\n",
       "    }\n",
       "\n",
       "    .dataframe tbody tr th {\n",
       "        vertical-align: top;\n",
       "    }\n",
       "\n",
       "    .dataframe thead th {\n",
       "        text-align: right;\n",
       "    }\n",
       "</style>\n",
       "<table border=\"1\" class=\"dataframe\">\n",
       "  <thead>\n",
       "    <tr style=\"text-align: right;\">\n",
       "      <th></th>\n",
       "      <th>Date</th>\n",
       "      <th>Time</th>\n",
       "      <th>Global_active_power</th>\n",
       "      <th>Global_reactive_power</th>\n",
       "      <th>Voltage</th>\n",
       "      <th>Global_intensity</th>\n",
       "      <th>Sub_metering_1</th>\n",
       "      <th>Sub_metering_2</th>\n",
       "      <th>Sub_metering_3</th>\n",
       "    </tr>\n",
       "  </thead>\n",
       "  <tbody>\n",
       "    <tr>\n",
       "      <th>6839</th>\n",
       "      <td>21/12/2006</td>\n",
       "      <td>11:23:00</td>\n",
       "      <td>?</td>\n",
       "      <td>?</td>\n",
       "      <td>?</td>\n",
       "      <td>?</td>\n",
       "      <td>?</td>\n",
       "      <td>?</td>\n",
       "      <td>NaN</td>\n",
       "    </tr>\n",
       "    <tr>\n",
       "      <th>6840</th>\n",
       "      <td>21/12/2006</td>\n",
       "      <td>11:24:00</td>\n",
       "      <td>?</td>\n",
       "      <td>?</td>\n",
       "      <td>?</td>\n",
       "      <td>?</td>\n",
       "      <td>?</td>\n",
       "      <td>?</td>\n",
       "      <td>NaN</td>\n",
       "    </tr>\n",
       "    <tr>\n",
       "      <th>19724</th>\n",
       "      <td>30/12/2006</td>\n",
       "      <td>10:08:00</td>\n",
       "      <td>?</td>\n",
       "      <td>?</td>\n",
       "      <td>?</td>\n",
       "      <td>?</td>\n",
       "      <td>?</td>\n",
       "      <td>?</td>\n",
       "      <td>NaN</td>\n",
       "    </tr>\n",
       "    <tr>\n",
       "      <th>19725</th>\n",
       "      <td>30/12/2006</td>\n",
       "      <td>10:09:00</td>\n",
       "      <td>?</td>\n",
       "      <td>?</td>\n",
       "      <td>?</td>\n",
       "      <td>?</td>\n",
       "      <td>?</td>\n",
       "      <td>?</td>\n",
       "      <td>NaN</td>\n",
       "    </tr>\n",
       "    <tr>\n",
       "      <th>41832</th>\n",
       "      <td>14/1/2007</td>\n",
       "      <td>18:36:00</td>\n",
       "      <td>?</td>\n",
       "      <td>?</td>\n",
       "      <td>?</td>\n",
       "      <td>?</td>\n",
       "      <td>?</td>\n",
       "      <td>?</td>\n",
       "      <td>NaN</td>\n",
       "    </tr>\n",
       "    <tr>\n",
       "      <th>...</th>\n",
       "      <td>...</td>\n",
       "      <td>...</td>\n",
       "      <td>...</td>\n",
       "      <td>...</td>\n",
       "      <td>...</td>\n",
       "      <td>...</td>\n",
       "      <td>...</td>\n",
       "      <td>...</td>\n",
       "      <td>...</td>\n",
       "    </tr>\n",
       "    <tr>\n",
       "      <th>1990185</th>\n",
       "      <td>28/9/2010</td>\n",
       "      <td>19:09:00</td>\n",
       "      <td>?</td>\n",
       "      <td>?</td>\n",
       "      <td>?</td>\n",
       "      <td>?</td>\n",
       "      <td>?</td>\n",
       "      <td>?</td>\n",
       "      <td>NaN</td>\n",
       "    </tr>\n",
       "    <tr>\n",
       "      <th>1990186</th>\n",
       "      <td>28/9/2010</td>\n",
       "      <td>19:10:00</td>\n",
       "      <td>?</td>\n",
       "      <td>?</td>\n",
       "      <td>?</td>\n",
       "      <td>?</td>\n",
       "      <td>?</td>\n",
       "      <td>?</td>\n",
       "      <td>NaN</td>\n",
       "    </tr>\n",
       "    <tr>\n",
       "      <th>1990187</th>\n",
       "      <td>28/9/2010</td>\n",
       "      <td>19:11:00</td>\n",
       "      <td>?</td>\n",
       "      <td>?</td>\n",
       "      <td>?</td>\n",
       "      <td>?</td>\n",
       "      <td>?</td>\n",
       "      <td>?</td>\n",
       "      <td>NaN</td>\n",
       "    </tr>\n",
       "    <tr>\n",
       "      <th>1990188</th>\n",
       "      <td>28/9/2010</td>\n",
       "      <td>19:12:00</td>\n",
       "      <td>?</td>\n",
       "      <td>?</td>\n",
       "      <td>?</td>\n",
       "      <td>?</td>\n",
       "      <td>?</td>\n",
       "      <td>?</td>\n",
       "      <td>NaN</td>\n",
       "    </tr>\n",
       "    <tr>\n",
       "      <th>2027411</th>\n",
       "      <td>24/10/2010</td>\n",
       "      <td>15:35:00</td>\n",
       "      <td>?</td>\n",
       "      <td>?</td>\n",
       "      <td>?</td>\n",
       "      <td>?</td>\n",
       "      <td>?</td>\n",
       "      <td>?</td>\n",
       "      <td>NaN</td>\n",
       "    </tr>\n",
       "  </tbody>\n",
       "</table>\n",
       "<p>25979 rows × 9 columns</p>\n",
       "</div>"
      ],
      "text/plain": [
       "               Date      Time Global_active_power Global_reactive_power  \\\n",
       "6839     21/12/2006  11:23:00                   ?                     ?   \n",
       "6840     21/12/2006  11:24:00                   ?                     ?   \n",
       "19724    30/12/2006  10:08:00                   ?                     ?   \n",
       "19725    30/12/2006  10:09:00                   ?                     ?   \n",
       "41832     14/1/2007  18:36:00                   ?                     ?   \n",
       "...             ...       ...                 ...                   ...   \n",
       "1990185   28/9/2010  19:09:00                   ?                     ?   \n",
       "1990186   28/9/2010  19:10:00                   ?                     ?   \n",
       "1990187   28/9/2010  19:11:00                   ?                     ?   \n",
       "1990188   28/9/2010  19:12:00                   ?                     ?   \n",
       "2027411  24/10/2010  15:35:00                   ?                     ?   \n",
       "\n",
       "        Voltage Global_intensity Sub_metering_1 Sub_metering_2  Sub_metering_3  \n",
       "6839          ?                ?              ?              ?             NaN  \n",
       "6840          ?                ?              ?              ?             NaN  \n",
       "19724         ?                ?              ?              ?             NaN  \n",
       "19725         ?                ?              ?              ?             NaN  \n",
       "41832         ?                ?              ?              ?             NaN  \n",
       "...         ...              ...            ...            ...             ...  \n",
       "1990185       ?                ?              ?              ?             NaN  \n",
       "1990186       ?                ?              ?              ?             NaN  \n",
       "1990187       ?                ?              ?              ?             NaN  \n",
       "1990188       ?                ?              ?              ?             NaN  \n",
       "2027411       ?                ?              ?              ?             NaN  \n",
       "\n",
       "[25979 rows x 9 columns]"
      ]
     },
     "execution_count": 54,
     "metadata": {},
     "output_type": "execute_result"
    }
   ],
   "source": [
    "df[df['Sub_metering_3'].isna()]"
   ]
  },
  {
   "cell_type": "code",
   "execution_count": 55,
   "id": "e7ed1d46-1250-400e-a24a-53deb440ebbc",
   "metadata": {},
   "outputs": [
    {
     "data": {
      "text/plain": [
       "Date                     21/12/2006\n",
       "Time                       11:23:00\n",
       "Global_active_power               ?\n",
       "Global_reactive_power             ?\n",
       "Voltage                           ?\n",
       "Global_intensity                  ?\n",
       "Sub_metering_1                    ?\n",
       "Sub_metering_2                    ?\n",
       "Sub_metering_3                  NaN\n",
       "Name: 6839, dtype: object"
      ]
     },
     "execution_count": 55,
     "metadata": {},
     "output_type": "execute_result"
    }
   ],
   "source": [
    "df.iloc[6839]"
   ]
  },
  {
   "cell_type": "code",
   "execution_count": null,
   "id": "14995f8a-24ed-4e4d-8c20-9d2ecf89a8ad",
   "metadata": {},
   "outputs": [],
   "source": []
  }
 ],
 "metadata": {
  "kernelspec": {
   "display_name": "Python 3 (ipykernel)",
   "language": "python",
   "name": "python3"
  },
  "language_info": {
   "codemirror_mode": {
    "name": "ipython",
    "version": 3
   },
   "file_extension": ".py",
   "mimetype": "text/x-python",
   "name": "python",
   "nbconvert_exporter": "python",
   "pygments_lexer": "ipython3",
   "version": "3.10.14"
  }
 },
 "nbformat": 4,
 "nbformat_minor": 5
}
